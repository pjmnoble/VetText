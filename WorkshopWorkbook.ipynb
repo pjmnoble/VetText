{
 "cells": [
  {
   "cell_type": "markdown",
   "metadata": {},
   "source": [
    "## The plan\n",
    "- Simple handling of variables\n",
    "- different useful variable types from lists to dictionaries to dataframes\n",
    "- slicing dataframes, looking at your data\n",
    "- loading up a clinical text dataset\n",
    "- filtering for text content\n",
    "- Regular expressions\n",
    "- saving your datasets and graphs\n",
    "\n",
    "let's take abreak every hour"
   ]
  },
  {
   "cell_type": "code",
   "execution_count": null,
   "metadata": {},
   "outputs": [],
   "source": [
    "!pip install pandas\n",
    "!pip install seaborn"
   ]
  },
  {
   "cell_type": "code",
   "execution_count": null,
   "metadata": {},
   "outputs": [],
   "source": [
    "import pandas as pd\n",
    "import datetime\n",
    "import seaborn as sns"
   ]
  },
  {
   "cell_type": "code",
   "execution_count": null,
   "metadata": {},
   "outputs": [],
   "source": [
    "# variable - a number\n",
    "a =  71 \n",
    "print(a)"
   ]
  },
  {
   "cell_type": "code",
   "execution_count": null,
   "metadata": {},
   "outputs": [],
   "source": [
    "# you can do maths with numbers\n",
    "print (1+1)\n",
    "print (a*5)\n",
    "print ((a*5)/100)"
   ]
  },
  {
   "cell_type": "code",
   "execution_count": null,
   "metadata": {},
   "outputs": [],
   "source": [
    "# formatted printing\n",
    "print(f'So a is {a}')"
   ]
  },
  {
   "cell_type": "code",
   "execution_count": null,
   "metadata": {},
   "outputs": [],
   "source": [
    "# variable - a string\n",
    "the_string = 'this is an example of a string'\n",
    "print(f'So the contents of the_string is {the_string} \\n and you can insert newlines in prinouts and strings with \\\\n')"
   ]
  },
  {
   "cell_type": "code",
   "execution_count": null,
   "metadata": {},
   "outputs": [],
   "source": [
    "the_string+'  . . . if you do maths - even on strings the result of last thing you do will output to the screen in this case, it is a string (hence the \\'\\')'"
   ]
  },
  {
   "cell_type": "code",
   "execution_count": null,
   "metadata": {},
   "outputs": [],
   "source": [
    "# variable - a list\n",
    "a=['the', 'quick', 'brown', 'fox']\n",
    "print(f'So a is {a}')"
   ]
  },
  {
   "cell_type": "code",
   "execution_count": null,
   "metadata": {},
   "outputs": [],
   "source": [
    "# iterate over a list\n",
    "\n",
    "for item in a:\n",
    "    print(f'{item}')"
   ]
  },
  {
   "cell_type": "markdown",
   "metadata": {},
   "source": [
    "### Activity:\n",
    "Google how to add and remove items from a list"
   ]
  },
  {
   "cell_type": "code",
   "execution_count": null,
   "metadata": {},
   "outputs": [],
   "source": [
    "# dictionary\n",
    "a = {'name':'John', 'postcode':'ch64', 'dob':datetime.date(2012,6,1)}\n",
    "print(f'So a is {a}')"
   ]
  },
  {
   "cell_type": "markdown",
   "metadata": {},
   "source": [
    "### Activity:\n",
    "Google how to add key/value pairs to a dictionary"
   ]
  },
  {
   "cell_type": "code",
   "execution_count": null,
   "metadata": {},
   "outputs": [],
   "source": [
    "print(f'The name is {a[\"name\"]}')"
   ]
  },
  {
   "cell_type": "code",
   "execution_count": null,
   "metadata": {},
   "outputs": [],
   "source": [
    "# list of dictionaries\n",
    "people_list = [{'name':'John', 'postcode':'ch64', 'dob':datetime.date(2012,6,1)},\n",
    "    {'name':'Roger', 'postcode':'CH21', 'dob':datetime.date(2010,6,8)},\n",
    "    {'name':'Sheila', 'postcode':'CH45', 'dob':datetime.date(2012,3,1)}\n",
    "    ]\n",
    "    \n",
    "for person in people_list:\n",
    "    print(f'{person[\"name\"]} living at postcode {person[\"postcode\"]} was born on the {person[\"dob\"]}')"
   ]
  },
  {
   "cell_type": "markdown",
   "metadata": {},
   "source": [
    "### Activity:\n",
    "What is a set . . . . "
   ]
  },
  {
   "cell_type": "code",
   "execution_count": null,
   "metadata": {},
   "outputs": [],
   "source": [
    "# datetimes\n",
    "the_date = datetime.date(2016,6,1)\n",
    "print(the_date)\n",
    "print(f'the-date is {the_date}')\n",
    "\n",
    "the_month = the_date.month\n",
    "the_day = the_date.day\n",
    "the_year = the_date.year\n",
    "\n",
    "nice_date_string = the_date.strftime('%d/%m/%Y')\n",
    "\n",
    "print(f'the-date is {the_date} so the month is {the_month}, the day is {the_day}, the year is {the_year} which formatted nicely is {nice_date_string}')"
   ]
  },
  {
   "cell_type": "markdown",
   "metadata": {},
   "source": [
    "### Activity:\n",
    "Create a date object for your birthday and print it out (formatted the way you want it) as part of a string \n",
    "Print which day of the year this date is ( might need Google for that - involves %j )"
   ]
  },
  {
   "cell_type": "markdown",
   "metadata": {},
   "source": [
    "## Datafranes - a spreadsheet in code"
   ]
  },
  {
   "cell_type": "code",
   "execution_count": null,
   "metadata": {},
   "outputs": [],
   "source": [
    "# dataframe\n",
    "\n",
    "data = {'name':['John', 'Roger', 'Sheila'],\n",
    "        'postcode':['CH64','CH21','CH45'],\n",
    "        'dob':[datetime.date(2012,6,1),\n",
    "                datetime.date(2010,6,8),\n",
    "                datetime.date(2012,3,1)]}\n",
    "df = pd.DataFrame(data)"
   ]
  },
  {
   "cell_type": "code",
   "execution_count": null,
   "metadata": {},
   "outputs": [],
   "source": [
    "df"
   ]
  },
  {
   "cell_type": "code",
   "execution_count": null,
   "metadata": {},
   "outputs": [],
   "source": [
    "df.loc[df.name=='John']"
   ]
  },
  {
   "cell_type": "code",
   "execution_count": null,
   "metadata": {},
   "outputs": [],
   "source": [
    "df.loc[df.name.isin(['John','Sheila'])]"
   ]
  },
  {
   "cell_type": "markdown",
   "metadata": {},
   "source": [
    "## Let's load up some SAVSNET data"
   ]
  },
  {
   "cell_type": "code",
   "execution_count": null,
   "metadata": {},
   "outputs": [],
   "source": [
    "# https://stackoverflow.com/questions/59393194/how-to-download-xlsx-file-from-url-and-save-in-data-frame-via-python\n",
    "\n",
    "SAVSNET_DATA_URL=\"https://www.liverpool.ac.uk/media/livacuk/savsnet/SAVSNET,sample,vet,data.xlsx\"\n",
    "savsnet_df=pd.read_excel(SAVSNET_DATA_URL)"
   ]
  },
  {
   "cell_type": "code",
   "execution_count": null,
   "metadata": {},
   "outputs": [],
   "source": [
    "savsnet_df"
   ]
  },
  {
   "cell_type": "code",
   "execution_count": null,
   "metadata": {},
   "outputs": [],
   "source": [
    "# Get rid of unwanted column\n",
    "savsnet_df = savsnet_df.drop('Unnamed: 0', axis=1)\n",
    "# same as savsnet_df.drop('Unnamed: 0', axis=1, inplace=True)"
   ]
  },
  {
   "cell_type": "code",
   "execution_count": null,
   "metadata": {},
   "outputs": [],
   "source": [
    "savsnet_df.info()"
   ]
  },
  {
   "cell_type": "code",
   "execution_count": null,
   "metadata": {},
   "outputs": [],
   "source": [
    "savsnet_df.at[0,'Species']"
   ]
  },
  {
   "cell_type": "code",
   "execution_count": null,
   "metadata": {},
   "outputs": [],
   "source": [
    "savsnet_df.loc[savsnet_df['SAVSNET MPC']=='kidney_disease','Species']"
   ]
  },
  {
   "cell_type": "code",
   "execution_count": null,
   "metadata": {},
   "outputs": [],
   "source": [
    "savsnet_df.loc[savsnet_df['SAVSNET MPC']=='kidney_disease'].shape"
   ]
  },
  {
   "cell_type": "markdown",
   "metadata": {},
   "source": [
    "# Let's plot some data"
   ]
  },
  {
   "cell_type": "code",
   "execution_count": null,
   "metadata": {},
   "outputs": [],
   "source": [
    "# https://seaborn.pydata.org/generated/seaborn.countplot.html\n",
    "\n",
    "sns.set_theme(style=\"darkgrid\")\n",
    "graph_axes = sns.countplot(x=\"Species\", data=savsnet_df)\n",
    "\n",
    "# graph_axes.tick_params(axis='x', labelrotation = 45)\n"
   ]
  },
  {
   "cell_type": "code",
   "execution_count": null,
   "metadata": {},
   "outputs": [],
   "source": [
    "figure = graph_axes.get_figure()\n",
    "figure.savefig(\"my_graph.png\")"
   ]
  },
  {
   "cell_type": "code",
   "execution_count": null,
   "metadata": {},
   "outputs": [],
   "source": [
    "# https://seaborn.pydata.org/generated/seaborn.countplot.html\n",
    "\n",
    "sns.set_theme(style=\"darkgrid\")\n",
    "graph_axes = sns.countplot(x=\"SAVSNET MPC\", data=savsnet_df)\n",
    "graph_axes.tick_params(axis='x', labelrotation = 45)"
   ]
  },
  {
   "cell_type": "code",
   "execution_count": null,
   "metadata": {},
   "outputs": [],
   "source": [
    "# add a calculated column to your dataframe\n",
    "savsnet_df['month'] = savsnet_df.Consult_date.dt.month"
   ]
  },
  {
   "cell_type": "code",
   "execution_count": null,
   "metadata": {},
   "outputs": [],
   "source": [
    "savsnet_df"
   ]
  },
  {
   "cell_type": "code",
   "execution_count": null,
   "metadata": {},
   "outputs": [],
   "source": [
    "sns.set_theme(style=\"darkgrid\")\n",
    "\n",
    "graph_axes = sns.countplot(x=\"month\", data=savsnet_df)\n",
    "# graph_axes = sns.countplot(x=\"month\", data=savsnet_df.loc[savsnet_df.Species=='cat'])\n",
    "# graph_axes = sns.countplot(x=\"month\", data=savsnet_df.loc[savsnet_df['SAVSNET MPC']=='gastroenteric'])\n",
    "graph_axes.tick_params(axis='x', labelrotation = 45)"
   ]
  },
  {
   "cell_type": "code",
   "execution_count": null,
   "metadata": {},
   "outputs": [],
   "source": [
    "# grouping\n",
    "monthly_counts_df = savsnet_df.groupby('month').count()"
   ]
  },
  {
   "cell_type": "code",
   "execution_count": null,
   "metadata": {},
   "outputs": [],
   "source": [
    "monthly_counts_df"
   ]
  },
  {
   "cell_type": "code",
   "execution_count": null,
   "metadata": {},
   "outputs": [],
   "source": [
    "sns.set_theme(style=\"darkgrid\")\n",
    "graph_axes = sns.lineplot(x=\"month\", data=monthly_counts_df, y='Narrative')\n",
    "# graph_axes.set(ylim=(0,None))\n",
    "graph_axes.tick_params(axis='x', labelrotation = 45)"
   ]
  },
  {
   "cell_type": "markdown",
   "metadata": {},
   "source": [
    "# Text Mining"
   ]
  },
  {
   "cell_type": "code",
   "execution_count": null,
   "metadata": {},
   "outputs": [],
   "source": [
    "# Consults that contain text\n",
    "test_string = \"The Quick Brown Fox Jumped Over The Lazy Dog\""
   ]
  },
  {
   "cell_type": "code",
   "execution_count": null,
   "metadata": {},
   "outputs": [],
   "source": [
    "test_string.lower()\n",
    "# test_string.upper()\n",
    "# test_string.replace('Fox','Bear')"
   ]
  },
  {
   "cell_type": "code",
   "execution_count": null,
   "metadata": {},
   "outputs": [],
   "source": [
    "if 'Fox' in test_string:\n",
    "    print('I saw a fox')\n",
    "else:\n",
    "    print('No fox here')"
   ]
  },
  {
   "cell_type": "code",
   "execution_count": null,
   "metadata": {},
   "outputs": [],
   "source": [
    "# Make a function\n",
    "\n",
    "def foxes_in(test_string):\n",
    "    if 'fox' in test_string.lower:\n",
    "        return True\n",
    "    else:\n",
    "        return False\n",
    "        "
   ]
  },
  {
   "cell_type": "code",
   "execution_count": null,
   "metadata": {},
   "outputs": [],
   "source": [
    "def foxes_in(test_string:str)->bool:\n",
    "    \"\"\" Tests to see if the word fox is in a submitted string\n",
    "    params: test_string: this is a string in which a fox migth be hidden - it gets converted to lower case\n",
    "    returns: boolean true or False for the outcome\n",
    "    \"\"\"\n",
    "    if 'fox' in test_string.lower:\n",
    "        return True\n",
    "    else:\n",
    "        return False"
   ]
  },
  {
   "cell_type": "markdown",
   "metadata": {},
   "source": [
    "### Test\n",
    "Write a function that has 2 arguments, the thing you are searching for and the string to search in - the function should return True or False"
   ]
  },
  {
   "cell_type": "code",
   "execution_count": null,
   "metadata": {},
   "outputs": [],
   "source": [
    "# regular expressions\n",
    "\n",
    "import re\n",
    "\n",
    "my_regex_string = r'\\bthe\\b'\n",
    "my_regex =  re.compile(my_regex_string,re.IGNORECASE)\n",
    "\n",
    "my_regex.search(test_string)"
   ]
  },
  {
   "cell_type": "code",
   "execution_count": null,
   "metadata": {},
   "outputs": [],
   "source": [
    "matches = my_regex.findall(test_string)\n",
    "print(f'there were {len(matches)} matches for the regex and these were {matches}')"
   ]
  },
  {
   "cell_type": "code",
   "execution_count": null,
   "metadata": {},
   "outputs": [],
   "source": [
    "my_regex.match(test_string)"
   ]
  },
  {
   "cell_type": "markdown",
   "metadata": {},
   "source": [
    "# Putting that together with your dataframe"
   ]
  },
  {
   "cell_type": "code",
   "execution_count": null,
   "metadata": {},
   "outputs": [],
   "source": [
    "savsnet_df['matches']=savsnet_df.Narrative.str.contains(my_regex, regex=True)"
   ]
  },
  {
   "cell_type": "code",
   "execution_count": null,
   "metadata": {},
   "outputs": [],
   "source": [
    "savsnet_df"
   ]
  },
  {
   "cell_type": "code",
   "execution_count": null,
   "metadata": {},
   "outputs": [],
   "source": [
    "# how many narratives have 'the' in them\n",
    "\n",
    "savsnet_df.loc[savsnet_df.matches].shape"
   ]
  },
  {
   "cell_type": "code",
   "execution_count": null,
   "metadata": {},
   "outputs": [],
   "source": [
    "# Let's look at a sample\n",
    "\n",
    "sample_df = savsnet_df.loc[savsnet_df.matches==True].sample(5)\n",
    "for row in sample_df.itertuples():\n",
    "    print(row.Narrative, '\\n')"
   ]
  },
  {
   "cell_type": "code",
   "execution_count": null,
   "metadata": {},
   "outputs": [],
   "source": [
    "savsnet_df['match_count']=savsnet_df.Narrative.apply(lambda x: len(my_regex.findall(x)))"
   ]
  },
  {
   "cell_type": "code",
   "execution_count": null,
   "metadata": {},
   "outputs": [],
   "source": [
    "savsnet_df"
   ]
  },
  {
   "cell_type": "code",
   "execution_count": null,
   "metadata": {},
   "outputs": [],
   "source": [
    "# grouping\n",
    "sns.set_theme(style=\"darkgrid\")\n",
    "ax = sns.countplot(x=\"match_count\", data=savsnet_df)"
   ]
  },
  {
   "cell_type": "markdown",
   "metadata": {},
   "source": [
    "### Activity\n",
    "Design a regex to find something you are interested in test it in your workbook and refine it until is shows you what you want and tehn plot some counts by species."
   ]
  },
  {
   "cell_type": "code",
   "execution_count": null,
   "metadata": {},
   "outputs": [],
   "source": [
    "datestamp=datetime.datetime.now().strftime('%d%m%Y')\n",
    "savsnet_df.to_pickle(f'savsnet_data_{datestamp}.pkl.gz')\n",
    "savsnet_df.to_csv(f'savsnet_data_{datestamp}.csv')\n",
    "savsnet_df.to_excel(f'savsnet_data_{datestamp}.xlsx')"
   ]
  },
  {
   "cell_type": "code",
   "execution_count": null,
   "metadata": {},
   "outputs": [],
   "source": []
  }
 ],
 "metadata": {
  "kernelspec": {
   "display_name": "Python 3",
   "language": "python",
   "name": "python3"
  },
  "language_info": {
   "codemirror_mode": {
    "name": "ipython",
    "version": 3
   },
   "file_extension": ".py",
   "mimetype": "text/x-python",
   "name": "python",
   "nbconvert_exporter": "python",
   "pygments_lexer": "ipython3",
   "version": "3.7.12"
  }
 },
 "nbformat": 4,
 "nbformat_minor": 4
}
