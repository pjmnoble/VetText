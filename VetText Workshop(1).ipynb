{
 "cells": [
  {
   "cell_type": "code",
   "execution_count": null,
   "metadata": {},
   "outputs": [],
   "source": [
    "!pip install pandas\n",
    "!pip install numpy\n",
    "!pip install seaborn"
   ]
  },
  {
   "cell_type": "code",
   "execution_count": 1,
   "metadata": {},
   "outputs": [],
   "source": [
    "import pandas as pd\n",
    "import numpy as np\n",
    "import datetime"
   ]
  },
  {
   "cell_type": "code",
   "execution_count": 2,
   "metadata": {},
   "outputs": [
    {
     "name": "stdout",
     "output_type": "stream",
     "text": [
      "1\n"
     ]
    }
   ],
   "source": [
    "# variable - a number\n",
    "a =  1 \n",
    "print(a)"
   ]
  },
  {
   "cell_type": "code",
   "execution_count": 3,
   "metadata": {},
   "outputs": [
    {
     "name": "stdout",
     "output_type": "stream",
     "text": [
      "So a is 1\n"
     ]
    }
   ],
   "source": [
    "# formatted printing\n",
    "print(f'So a is {a}')"
   ]
  },
  {
   "cell_type": "code",
   "execution_count": 4,
   "metadata": {},
   "outputs": [
    {
     "name": "stdout",
     "output_type": "stream",
     "text": [
      "So a is this is an example of a string\n"
     ]
    }
   ],
   "source": [
    "# variable - a string\n",
    "a = 'this is an example of a string'\n",
    "print(f'So a is {a}')"
   ]
  },
  {
   "cell_type": "code",
   "execution_count": 5,
   "metadata": {},
   "outputs": [
    {
     "name": "stdout",
     "output_type": "stream",
     "text": [
      "So a is ['the', 'quick', 'brown', 'fox']\n"
     ]
    }
   ],
   "source": [
    "# variable - a list\n",
    "a=['the', 'quick', 'brown', 'fox']\n",
    "print(f'So a is {a}')"
   ]
  },
  {
   "cell_type": "code",
   "execution_count": 6,
   "metadata": {},
   "outputs": [
    {
     "name": "stdout",
     "output_type": "stream",
     "text": [
      "the\n",
      "quick\n",
      "brown\n",
      "fox\n"
     ]
    }
   ],
   "source": [
    "# iterate over a list\n",
    "\n",
    "for item in a:\n",
    "    print(f'{item}')"
   ]
  },
  {
   "cell_type": "markdown",
   "metadata": {},
   "source": [
    "### Activity:\n",
    "Google how to add and remove items from a list"
   ]
  },
  {
   "cell_type": "code",
   "execution_count": 7,
   "metadata": {},
   "outputs": [
    {
     "name": "stdout",
     "output_type": "stream",
     "text": [
      "So a is {'name': 'John', 'postcode': 'ch64', 'dob': datetime.date(2012, 6, 1)}\n"
     ]
    }
   ],
   "source": [
    "# dictionary\n",
    "a = {'name':'John', 'postcode':'ch64', 'dob':datetime.date(2012,6,1)}\n",
    "print(f'So a is {a}')"
   ]
  },
  {
   "cell_type": "markdown",
   "metadata": {},
   "source": [
    "### Activity:\n",
    "Google how to add key/value pairs to a dictionary"
   ]
  },
  {
   "cell_type": "code",
   "execution_count": 8,
   "metadata": {},
   "outputs": [
    {
     "name": "stdout",
     "output_type": "stream",
     "text": [
      "The name is John\n"
     ]
    }
   ],
   "source": [
    "print(f'The name is {a[\"name\"]}')"
   ]
  },
  {
   "cell_type": "code",
   "execution_count": 9,
   "metadata": {},
   "outputs": [
    {
     "name": "stdout",
     "output_type": "stream",
     "text": [
      "John living at postcode ch64 was born on the 2012-06-01\n",
      "Roger living at postcode CH21 was born on the 2010-06-08\n",
      "Sheila living at postcode CH45 was born on the 2012-03-01\n"
     ]
    }
   ],
   "source": [
    "# list of dictionaries\n",
    "people_list = [{'name':'John', 'postcode':'ch64', 'dob':datetime.date(2012,6,1)},\n",
    "    {'name':'Roger', 'postcode':'CH21', 'dob':datetime.date(2010,6,8)},\n",
    "    {'name':'Sheila', 'postcode':'CH45', 'dob':datetime.date(2012,3,1)}\n",
    "    ]\n",
    "    \n",
    "for person in people_list:\n",
    "    print(f'{person[\"name\"]} living at postcode {person[\"postcode\"]} was born on the {person[\"dob\"]}')"
   ]
  },
  {
   "cell_type": "markdown",
   "metadata": {},
   "source": [
    "### Activity:\n",
    "What is a set . . . . "
   ]
  },
  {
   "cell_type": "code",
   "execution_count": 23,
   "metadata": {},
   "outputs": [
    {
     "name": "stdout",
     "output_type": "stream",
     "text": [
      "2016-06-01\n",
      "the-date is 2016-06-01\n",
      "the-date is 2016-06-01 so the month is 6, the day is 1, the year is 2016 which formatted nicely is 01/06/2016\n"
     ]
    }
   ],
   "source": [
    "# datetimes\n",
    "the_date = datetime.date(2016,6,1)\n",
    "print(the_date)\n",
    "print(f'the-date is {the_date}')\n",
    "\n",
    "the_month = the_date.month\n",
    "the_day = the_date.day\n",
    "the_year = the_date.year\n",
    "\n",
    "nice_date_string = the_date.strftime('%d/%m/%Y')\n",
    "\n",
    "print(f'the-date is {the_date} so the month is {the_month}, the day is {the_day}, the year is {the_year} which formatted nicely is {nice_date_string}')"
   ]
  },
  {
   "cell_type": "markdown",
   "metadata": {},
   "source": [
    "### Activity:\n",
    "Create a date object for your birthday and print it out (formatted the way you want it) as part of a string \n",
    "Print which day of the year this date is (might need Google for that - involves %j)"
   ]
  },
  {
   "cell_type": "code",
   "execution_count": 10,
   "metadata": {},
   "outputs": [],
   "source": [
    "# dataframe\n",
    "\n",
    "data = {'name':['John', 'Roger', 'Sheila'],\n",
    "        'postcode':['CH64','CH21','CH45'],\n",
    "        'dob':[datetime.date(2012,6,1),\n",
    "                datetime.date(2010,6,8),\n",
    "                datetime.date(2012,3,1)]}\n",
    "df = pd.DataFrame(data)"
   ]
  },
  {
   "cell_type": "code",
   "execution_count": 51,
   "metadata": {},
   "outputs": [
    {
     "data": {
      "text/html": [
       "<div>\n",
       "<style scoped>\n",
       "    .dataframe tbody tr th:only-of-type {\n",
       "        vertical-align: middle;\n",
       "    }\n",
       "\n",
       "    .dataframe tbody tr th {\n",
       "        vertical-align: top;\n",
       "    }\n",
       "\n",
       "    .dataframe thead th {\n",
       "        text-align: right;\n",
       "    }\n",
       "</style>\n",
       "<table border=\"1\" class=\"dataframe\">\n",
       "  <thead>\n",
       "    <tr style=\"text-align: right;\">\n",
       "      <th></th>\n",
       "      <th>name</th>\n",
       "      <th>postcode</th>\n",
       "      <th>dob</th>\n",
       "    </tr>\n",
       "  </thead>\n",
       "  <tbody>\n",
       "    <tr>\n",
       "      <th>0</th>\n",
       "      <td>John</td>\n",
       "      <td>CH64</td>\n",
       "      <td>2012-06-01</td>\n",
       "    </tr>\n",
       "    <tr>\n",
       "      <th>1</th>\n",
       "      <td>Roger</td>\n",
       "      <td>CH21</td>\n",
       "      <td>2010-06-08</td>\n",
       "    </tr>\n",
       "    <tr>\n",
       "      <th>2</th>\n",
       "      <td>Sheila</td>\n",
       "      <td>CH45</td>\n",
       "      <td>2012-03-01</td>\n",
       "    </tr>\n",
       "  </tbody>\n",
       "</table>\n",
       "</div>"
      ],
      "text/plain": [
       "     name postcode         dob\n",
       "0    John     CH64  2012-06-01\n",
       "1   Roger     CH21  2010-06-08\n",
       "2  Sheila     CH45  2012-03-01"
      ]
     },
     "execution_count": 51,
     "metadata": {},
     "output_type": "execute_result"
    }
   ],
   "source": [
    "df"
   ]
  },
  {
   "cell_type": "code",
   "execution_count": 11,
   "metadata": {},
   "outputs": [
    {
     "data": {
      "text/html": [
       "<div>\n",
       "<style scoped>\n",
       "    .dataframe tbody tr th:only-of-type {\n",
       "        vertical-align: middle;\n",
       "    }\n",
       "\n",
       "    .dataframe tbody tr th {\n",
       "        vertical-align: top;\n",
       "    }\n",
       "\n",
       "    .dataframe thead th {\n",
       "        text-align: right;\n",
       "    }\n",
       "</style>\n",
       "<table border=\"1\" class=\"dataframe\">\n",
       "  <thead>\n",
       "    <tr style=\"text-align: right;\">\n",
       "      <th></th>\n",
       "      <th>name</th>\n",
       "      <th>postcode</th>\n",
       "      <th>dob</th>\n",
       "    </tr>\n",
       "  </thead>\n",
       "  <tbody>\n",
       "    <tr>\n",
       "      <th>0</th>\n",
       "      <td>John</td>\n",
       "      <td>CH64</td>\n",
       "      <td>2012-06-01</td>\n",
       "    </tr>\n",
       "  </tbody>\n",
       "</table>\n",
       "</div>"
      ],
      "text/plain": [
       "   name postcode         dob\n",
       "0  John     CH64  2012-06-01"
      ]
     },
     "execution_count": 11,
     "metadata": {},
     "output_type": "execute_result"
    }
   ],
   "source": [
    "df.loc[df.name=='John']"
   ]
  },
  {
   "cell_type": "code",
   "execution_count": 12,
   "metadata": {},
   "outputs": [
    {
     "data": {
      "text/html": [
       "<div>\n",
       "<style scoped>\n",
       "    .dataframe tbody tr th:only-of-type {\n",
       "        vertical-align: middle;\n",
       "    }\n",
       "\n",
       "    .dataframe tbody tr th {\n",
       "        vertical-align: top;\n",
       "    }\n",
       "\n",
       "    .dataframe thead th {\n",
       "        text-align: right;\n",
       "    }\n",
       "</style>\n",
       "<table border=\"1\" class=\"dataframe\">\n",
       "  <thead>\n",
       "    <tr style=\"text-align: right;\">\n",
       "      <th></th>\n",
       "      <th>name</th>\n",
       "      <th>postcode</th>\n",
       "      <th>dob</th>\n",
       "    </tr>\n",
       "  </thead>\n",
       "  <tbody>\n",
       "    <tr>\n",
       "      <th>0</th>\n",
       "      <td>John</td>\n",
       "      <td>CH64</td>\n",
       "      <td>2012-06-01</td>\n",
       "    </tr>\n",
       "    <tr>\n",
       "      <th>2</th>\n",
       "      <td>Sheila</td>\n",
       "      <td>CH45</td>\n",
       "      <td>2012-03-01</td>\n",
       "    </tr>\n",
       "  </tbody>\n",
       "</table>\n",
       "</div>"
      ],
      "text/plain": [
       "     name postcode         dob\n",
       "0    John     CH64  2012-06-01\n",
       "2  Sheila     CH45  2012-03-01"
      ]
     },
     "execution_count": 12,
     "metadata": {},
     "output_type": "execute_result"
    }
   ],
   "source": [
    "df.loc[df.name.isin(['John','Sheila'])]"
   ]
  },
  {
   "cell_type": "code",
   "execution_count": null,
   "metadata": {},
   "outputs": [],
   "source": [
    "## Let's load up some SAVSNET data"
   ]
  },
  {
   "cell_type": "code",
   "execution_count": 13,
   "metadata": {},
   "outputs": [],
   "source": [
    "# https://stackoverflow.com/questions/59393194/how-to-download-xlsx-file-from-url-and-save-in-data-frame-via-python\n",
    "\n",
    "SAVSNET_DATA_URL=\"https://www.liverpool.ac.uk/media/livacuk/savsnet/SAVSNET,sample,vet,data.xlsx\"\n",
    "savsnet_df=pd.read_excel(SAVSNET_DATA_URL)"
   ]
  },
  {
   "cell_type": "code",
   "execution_count": 14,
   "metadata": {},
   "outputs": [
    {
     "data": {
      "text/html": [
       "<div>\n",
       "<style scoped>\n",
       "    .dataframe tbody tr th:only-of-type {\n",
       "        vertical-align: middle;\n",
       "    }\n",
       "\n",
       "    .dataframe tbody tr th {\n",
       "        vertical-align: top;\n",
       "    }\n",
       "\n",
       "    .dataframe thead th {\n",
       "        text-align: right;\n",
       "    }\n",
       "</style>\n",
       "<table border=\"1\" class=\"dataframe\">\n",
       "  <thead>\n",
       "    <tr style=\"text-align: right;\">\n",
       "      <th></th>\n",
       "      <th>Unnamed: 0</th>\n",
       "      <th>SAVSNET_consult_id</th>\n",
       "      <th>Narrative</th>\n",
       "      <th>SAVSNET MPC</th>\n",
       "      <th>Consult_date</th>\n",
       "      <th>Species</th>\n",
       "    </tr>\n",
       "  </thead>\n",
       "  <tbody>\n",
       "    <tr>\n",
       "      <th>0</th>\n",
       "      <td>0</td>\n",
       "      <td>1111025</td>\n",
       "      <td>\"Booster: hc satis. O no concerns. Ce NAD. Una...</td>\n",
       "      <td>vaccination</td>\n",
       "      <td>2016-01-27 08:40:27</td>\n",
       "      <td>dog</td>\n",
       "    </tr>\n",
       "    <tr>\n",
       "      <th>1</th>\n",
       "      <td>1</td>\n",
       "      <td>6761083</td>\n",
       "      <td>some tartar care w/ weight! reduce calories by...</td>\n",
       "      <td>vaccination</td>\n",
       "      <td>2019-10-03 11:24:06</td>\n",
       "      <td>dog</td>\n",
       "    </tr>\n",
       "    <tr>\n",
       "      <th>2</th>\n",
       "      <td>2</td>\n",
       "      <td>3938657</td>\n",
       "      <td>\"Came in for 6 month HPC check. BAR Hr=100 mm=...</td>\n",
       "      <td>other_healthy</td>\n",
       "      <td>2017-11-29 17:47:49</td>\n",
       "      <td>unknown</td>\n",
       "    </tr>\n",
       "    <tr>\n",
       "      <th>3</th>\n",
       "      <td>3</td>\n",
       "      <td>6081319</td>\n",
       "      <td>lame RF 5 days possibly getting better - had l...</td>\n",
       "      <td>trauma</td>\n",
       "      <td>2019-05-09 09:24:07</td>\n",
       "      <td>dog</td>\n",
       "    </tr>\n",
       "    <tr>\n",
       "      <th>4</th>\n",
       "      <td>4</td>\n",
       "      <td>4162251</td>\n",
       "      <td>\"H: Ate some plastic approx a week ago. This h...</td>\n",
       "      <td>other_unwell</td>\n",
       "      <td>2018-01-30 16:55:57</td>\n",
       "      <td>dog</td>\n",
       "    </tr>\n",
       "    <tr>\n",
       "      <th>...</th>\n",
       "      <td>...</td>\n",
       "      <td>...</td>\n",
       "      <td>...</td>\n",
       "      <td>...</td>\n",
       "      <td>...</td>\n",
       "      <td>...</td>\n",
       "    </tr>\n",
       "    <tr>\n",
       "      <th>4410</th>\n",
       "      <td>4410</td>\n",
       "      <td>4713926</td>\n",
       "      <td>\"Microchip implant. Checked no chip prior to i...</td>\n",
       "      <td>other_healthy</td>\n",
       "      <td>2018-07-09 10:41:14</td>\n",
       "      <td>cat</td>\n",
       "    </tr>\n",
       "    <tr>\n",
       "      <th>4411</th>\n",
       "      <td>4411</td>\n",
       "      <td>3370385</td>\n",
       "      <td>\"OR no concerns EDDU. V+ a little after last v...</td>\n",
       "      <td>vaccination</td>\n",
       "      <td>2017-07-14 17:45:20</td>\n",
       "      <td>dog</td>\n",
       "    </tr>\n",
       "    <tr>\n",
       "      <th>4412</th>\n",
       "      <td>4412</td>\n",
       "      <td>650951</td>\n",
       "      <td>\"patient is in good form after dental, owner r...</td>\n",
       "      <td>post_op</td>\n",
       "      <td>2015-09-28 18:03:04</td>\n",
       "      <td>dog</td>\n",
       "    </tr>\n",
       "    <tr>\n",
       "      <th>4413</th>\n",
       "      <td>4413</td>\n",
       "      <td>3328882</td>\n",
       "      <td>\"&lt;&lt;name&gt;&gt; 2 cysts on head advise removal. also...</td>\n",
       "      <td>other_healthy</td>\n",
       "      <td>2017-07-05 11:40:31</td>\n",
       "      <td>cat</td>\n",
       "    </tr>\n",
       "    <tr>\n",
       "      <th>4414</th>\n",
       "      <td>4414</td>\n",
       "      <td>866239</td>\n",
       "      <td>\"tried to staple but skin too thin and staples...</td>\n",
       "      <td>trauma</td>\n",
       "      <td>2015-11-26 15:07:24</td>\n",
       "      <td>dog</td>\n",
       "    </tr>\n",
       "  </tbody>\n",
       "</table>\n",
       "<p>4415 rows × 6 columns</p>\n",
       "</div>"
      ],
      "text/plain": [
       "      Unnamed: 0  SAVSNET_consult_id  \\\n",
       "0              0             1111025   \n",
       "1              1             6761083   \n",
       "2              2             3938657   \n",
       "3              3             6081319   \n",
       "4              4             4162251   \n",
       "...          ...                 ...   \n",
       "4410        4410             4713926   \n",
       "4411        4411             3370385   \n",
       "4412        4412              650951   \n",
       "4413        4413             3328882   \n",
       "4414        4414              866239   \n",
       "\n",
       "                                              Narrative    SAVSNET MPC  \\\n",
       "0     \"Booster: hc satis. O no concerns. Ce NAD. Una...    vaccination   \n",
       "1     some tartar care w/ weight! reduce calories by...    vaccination   \n",
       "2     \"Came in for 6 month HPC check. BAR Hr=100 mm=...  other_healthy   \n",
       "3     lame RF 5 days possibly getting better - had l...         trauma   \n",
       "4     \"H: Ate some plastic approx a week ago. This h...   other_unwell   \n",
       "...                                                 ...            ...   \n",
       "4410  \"Microchip implant. Checked no chip prior to i...  other_healthy   \n",
       "4411  \"OR no concerns EDDU. V+ a little after last v...    vaccination   \n",
       "4412  \"patient is in good form after dental, owner r...        post_op   \n",
       "4413  \"<<name>> 2 cysts on head advise removal. also...  other_healthy   \n",
       "4414  \"tried to staple but skin too thin and staples...         trauma   \n",
       "\n",
       "            Consult_date  Species  \n",
       "0    2016-01-27 08:40:27      dog  \n",
       "1    2019-10-03 11:24:06      dog  \n",
       "2    2017-11-29 17:47:49  unknown  \n",
       "3    2019-05-09 09:24:07      dog  \n",
       "4    2018-01-30 16:55:57      dog  \n",
       "...                  ...      ...  \n",
       "4410 2018-07-09 10:41:14      cat  \n",
       "4411 2017-07-14 17:45:20      dog  \n",
       "4412 2015-09-28 18:03:04      dog  \n",
       "4413 2017-07-05 11:40:31      cat  \n",
       "4414 2015-11-26 15:07:24      dog  \n",
       "\n",
       "[4415 rows x 6 columns]"
      ]
     },
     "execution_count": 14,
     "metadata": {},
     "output_type": "execute_result"
    }
   ],
   "source": [
    "savsnet_df"
   ]
  },
  {
   "cell_type": "code",
   "execution_count": 15,
   "metadata": {},
   "outputs": [],
   "source": [
    "# Get rid of unwanted column\n",
    "\n",
    "savsnet_df = savsnet_df.drop('Unnamed: 0', axis=1)\n",
    "# same as savsnet_df.drop('Unnamed: 0', axis=1, inplace=True)"
   ]
  },
  {
   "cell_type": "code",
   "execution_count": 98,
   "metadata": {},
   "outputs": [
    {
     "data": {
      "text/plain": [
       "'dog'"
      ]
     },
     "execution_count": 98,
     "metadata": {},
     "output_type": "execute_result"
    }
   ],
   "source": [
    "savsnet_df.at[0,'Species']"
   ]
  },
  {
   "cell_type": "code",
   "execution_count": 17,
   "metadata": {},
   "outputs": [
    {
     "data": {
      "text/plain": [
       "146         cat\n",
       "326         cat\n",
       "336         cat\n",
       "857         dog\n",
       "914         dog\n",
       "1032        cat\n",
       "1073        dog\n",
       "1692    unknown\n",
       "1857    unknown\n",
       "2014        cat\n",
       "2344        cat\n",
       "2355        cat\n",
       "2842        dog\n",
       "2873        cat\n",
       "2896        cat\n",
       "3112        dog\n",
       "3253        cat\n",
       "3714        cat\n",
       "3732        cat\n",
       "3758        dog\n",
       "3948        dog\n",
       "4052        cat\n",
       "4103        cat\n",
       "Name: Species, dtype: object"
      ]
     },
     "execution_count": 17,
     "metadata": {},
     "output_type": "execute_result"
    }
   ],
   "source": [
    "savsnet_df.loc[savsnet_df['SAVSNET MPC']=='kidney_disease','Species']"
   ]
  },
  {
   "cell_type": "code",
   "execution_count": 96,
   "metadata": {},
   "outputs": [
    {
     "data": {
      "text/plain": [
       "(23, 8)"
      ]
     },
     "execution_count": 96,
     "metadata": {},
     "output_type": "execute_result"
    }
   ],
   "source": [
    "savsnet_df.loc[savsnet_df['SAVSNET MPC']=='kidney_disease'].shape"
   ]
  },
  {
   "cell_type": "markdown",
   "metadata": {},
   "source": [
    "# Let's plot some data"
   ]
  },
  {
   "cell_type": "code",
   "execution_count": 19,
   "metadata": {},
   "outputs": [],
   "source": [
    "import seaborn as sns"
   ]
  },
  {
   "cell_type": "code",
   "execution_count": 20,
   "metadata": {},
   "outputs": [
    {
     "data": {
      "image/png": "[encoded data removed]",
      "text/plain": [
       "<Figure size 432x288 with 1 Axes>"
      ]
     },
     "metadata": {},
     "output_type": "display_data"
    }
   ],
   "source": [
    "# https://seaborn.pydata.org/generated/seaborn.countplot.html\n",
    "\n",
    "sns.set_theme(style=\"darkgrid\")\n",
    "ax = sns.countplot(x=\"Species\", data=savsnet_df)\n",
    "\n",
    "# ax.tick_params(axis='x', labelrotation = 45)\n",
    "# "
   ]
  },
  {
   "cell_type": "code",
   "execution_count": 21,
   "metadata": {},
   "outputs": [],
   "source": [
    "figure = ax.get_figure()\n",
    "figure.savefig(\"my_graph.png\")"
   ]
  },
  {
   "cell_type": "code",
   "execution_count": 22,
   "metadata": {},
   "outputs": [
    {
     "data": {
      "image/png": "[encoded data removed]",
      "text/plain": [
       "<Figure size 432x288 with 1 Axes>"
      ]
     },
     "metadata": {},
     "output_type": "display_data"
    }
   ],
   "source": [
    "# https://seaborn.pydata.org/generated/seaborn.countplot.html\n",
    "\n",
    "sns.set_theme(style=\"darkgrid\")\n",
    "ax = sns.countplot(x=\"SAVSNET MPC\", data=savsnet_df)\n",
    "ax.tick_params(axis='x', labelrotation = 45)"
   ]
  },
  {
   "cell_type": "code",
   "execution_count": 24,
   "metadata": {},
   "outputs": [],
   "source": [
    "# add a calculated column to your dataframe\n",
    "savsnet_df['month'] = savsnet_df.Consult_date.dt.month"
   ]
  },
  {
   "cell_type": "code",
   "execution_count": 25,
   "metadata": {},
   "outputs": [
    {
     "data": {
      "text/html": [
       "<div>\n",
       "<style scoped>\n",
       "    .dataframe tbody tr th:only-of-type {\n",
       "        vertical-align: middle;\n",
       "    }\n",
       "\n",
       "    .dataframe tbody tr th {\n",
       "        vertical-align: top;\n",
       "    }\n",
       "\n",
       "    .dataframe thead th {\n",
       "        text-align: right;\n",
       "    }\n",
       "</style>\n",
       "<table border=\"1\" class=\"dataframe\">\n",
       "  <thead>\n",
       "    <tr style=\"text-align: right;\">\n",
       "      <th></th>\n",
       "      <th>SAVSNET_consult_id</th>\n",
       "      <th>Narrative</th>\n",
       "      <th>SAVSNET MPC</th>\n",
       "      <th>Consult_date</th>\n",
       "      <th>Species</th>\n",
       "      <th>month</th>\n",
       "    </tr>\n",
       "  </thead>\n",
       "  <tbody>\n",
       "    <tr>\n",
       "      <th>0</th>\n",
       "      <td>1111025</td>\n",
       "      <td>\"Booster: hc satis. O no concerns. Ce NAD. Una...</td>\n",
       "      <td>vaccination</td>\n",
       "      <td>2016-01-27 08:40:27</td>\n",
       "      <td>dog</td>\n",
       "      <td>1</td>\n",
       "    </tr>\n",
       "    <tr>\n",
       "      <th>1</th>\n",
       "      <td>6761083</td>\n",
       "      <td>some tartar care w/ weight! reduce calories by...</td>\n",
       "      <td>vaccination</td>\n",
       "      <td>2019-10-03 11:24:06</td>\n",
       "      <td>dog</td>\n",
       "      <td>10</td>\n",
       "    </tr>\n",
       "    <tr>\n",
       "      <th>2</th>\n",
       "      <td>3938657</td>\n",
       "      <td>\"Came in for 6 month HPC check. BAR Hr=100 mm=...</td>\n",
       "      <td>other_healthy</td>\n",
       "      <td>2017-11-29 17:47:49</td>\n",
       "      <td>unknown</td>\n",
       "      <td>11</td>\n",
       "    </tr>\n",
       "    <tr>\n",
       "      <th>3</th>\n",
       "      <td>6081319</td>\n",
       "      <td>lame RF 5 days possibly getting better - had l...</td>\n",
       "      <td>trauma</td>\n",
       "      <td>2019-05-09 09:24:07</td>\n",
       "      <td>dog</td>\n",
       "      <td>5</td>\n",
       "    </tr>\n",
       "    <tr>\n",
       "      <th>4</th>\n",
       "      <td>4162251</td>\n",
       "      <td>\"H: Ate some plastic approx a week ago. This h...</td>\n",
       "      <td>other_unwell</td>\n",
       "      <td>2018-01-30 16:55:57</td>\n",
       "      <td>dog</td>\n",
       "      <td>1</td>\n",
       "    </tr>\n",
       "    <tr>\n",
       "      <th>...</th>\n",
       "      <td>...</td>\n",
       "      <td>...</td>\n",
       "      <td>...</td>\n",
       "      <td>...</td>\n",
       "      <td>...</td>\n",
       "      <td>...</td>\n",
       "    </tr>\n",
       "    <tr>\n",
       "      <th>4410</th>\n",
       "      <td>4713926</td>\n",
       "      <td>\"Microchip implant. Checked no chip prior to i...</td>\n",
       "      <td>other_healthy</td>\n",
       "      <td>2018-07-09 10:41:14</td>\n",
       "      <td>cat</td>\n",
       "      <td>7</td>\n",
       "    </tr>\n",
       "    <tr>\n",
       "      <th>4411</th>\n",
       "      <td>3370385</td>\n",
       "      <td>\"OR no concerns EDDU. V+ a little after last v...</td>\n",
       "      <td>vaccination</td>\n",
       "      <td>2017-07-14 17:45:20</td>\n",
       "      <td>dog</td>\n",
       "      <td>7</td>\n",
       "    </tr>\n",
       "    <tr>\n",
       "      <th>4412</th>\n",
       "      <td>650951</td>\n",
       "      <td>\"patient is in good form after dental, owner r...</td>\n",
       "      <td>post_op</td>\n",
       "      <td>2015-09-28 18:03:04</td>\n",
       "      <td>dog</td>\n",
       "      <td>9</td>\n",
       "    </tr>\n",
       "    <tr>\n",
       "      <th>4413</th>\n",
       "      <td>3328882</td>\n",
       "      <td>\"&lt;&lt;name&gt;&gt; 2 cysts on head advise removal. also...</td>\n",
       "      <td>other_healthy</td>\n",
       "      <td>2017-07-05 11:40:31</td>\n",
       "      <td>cat</td>\n",
       "      <td>7</td>\n",
       "    </tr>\n",
       "    <tr>\n",
       "      <th>4414</th>\n",
       "      <td>866239</td>\n",
       "      <td>\"tried to staple but skin too thin and staples...</td>\n",
       "      <td>trauma</td>\n",
       "      <td>2015-11-26 15:07:24</td>\n",
       "      <td>dog</td>\n",
       "      <td>11</td>\n",
       "    </tr>\n",
       "  </tbody>\n",
       "</table>\n",
       "<p>4415 rows × 6 columns</p>\n",
       "</div>"
      ],
      "text/plain": [
       "      SAVSNET_consult_id                                          Narrative  \\\n",
       "0                1111025  \"Booster: hc satis. O no concerns. Ce NAD. Una...   \n",
       "1                6761083  some tartar care w/ weight! reduce calories by...   \n",
       "2                3938657  \"Came in for 6 month HPC check. BAR Hr=100 mm=...   \n",
       "3                6081319  lame RF 5 days possibly getting better - had l...   \n",
       "4                4162251  \"H: Ate some plastic approx a week ago. This h...   \n",
       "...                  ...                                                ...   \n",
       "4410             4713926  \"Microchip implant. Checked no chip prior to i...   \n",
       "4411             3370385  \"OR no concerns EDDU. V+ a little after last v...   \n",
       "4412              650951  \"patient is in good form after dental, owner r...   \n",
       "4413             3328882  \"<<name>> 2 cysts on head advise removal. also...   \n",
       "4414              866239  \"tried to staple but skin too thin and staples...   \n",
       "\n",
       "        SAVSNET MPC        Consult_date  Species  month  \n",
       "0       vaccination 2016-01-27 08:40:27      dog      1  \n",
       "1       vaccination 2019-10-03 11:24:06      dog     10  \n",
       "2     other_healthy 2017-11-29 17:47:49  unknown     11  \n",
       "3            trauma 2019-05-09 09:24:07      dog      5  \n",
       "4      other_unwell 2018-01-30 16:55:57      dog      1  \n",
       "...             ...                 ...      ...    ...  \n",
       "4410  other_healthy 2018-07-09 10:41:14      cat      7  \n",
       "4411    vaccination 2017-07-14 17:45:20      dog      7  \n",
       "4412        post_op 2015-09-28 18:03:04      dog      9  \n",
       "4413  other_healthy 2017-07-05 11:40:31      cat      7  \n",
       "4414         trauma 2015-11-26 15:07:24      dog     11  \n",
       "\n",
       "[4415 rows x 6 columns]"
      ]
     },
     "execution_count": 25,
     "metadata": {},
     "output_type": "execute_result"
    }
   ],
   "source": [
    "savsnet_df"
   ]
  },
  {
   "cell_type": "code",
   "execution_count": 26,
   "metadata": {},
   "outputs": [
    {
     "data": {
      "image/png": "[encoded data removed]",
      "text/plain": [
       "<Figure size 432x288 with 1 Axes>"
      ]
     },
     "metadata": {},
     "output_type": "display_data"
    }
   ],
   "source": [
    "sns.set_theme(style=\"darkgrid\")\n",
    "\n",
    "ax = sns.countplot(x=\"month\", data=savsnet_df)\n",
    "# ax = sns.countplot(x=\"month\", data=savsnet_df.loc[savsnet_df.Species=='cat'])\n",
    "# ax = sns.countplot(x=\"month\", data=savsnet_df.loc[savsnet_df['SAVSNET MPC']=='gastroenteric'])\n",
    "ax.tick_params(axis='x', labelrotation = 45)"
   ]
  },
  {
   "cell_type": "code",
   "execution_count": 35,
   "metadata": {},
   "outputs": [],
   "source": [
    "# grouping\n",
    "monthly_counts_df = savsnet_df.groupby('month').count()"
   ]
  },
  {
   "cell_type": "code",
   "execution_count": 36,
   "metadata": {},
   "outputs": [
    {
     "data": {
      "text/html": [
       "<div>\n",
       "<style scoped>\n",
       "    .dataframe tbody tr th:only-of-type {\n",
       "        vertical-align: middle;\n",
       "    }\n",
       "\n",
       "    .dataframe tbody tr th {\n",
       "        vertical-align: top;\n",
       "    }\n",
       "\n",
       "    .dataframe thead th {\n",
       "        text-align: right;\n",
       "    }\n",
       "</style>\n",
       "<table border=\"1\" class=\"dataframe\">\n",
       "  <thead>\n",
       "    <tr style=\"text-align: right;\">\n",
       "      <th></th>\n",
       "      <th>SAVSNET_consult_id</th>\n",
       "      <th>Narrative</th>\n",
       "      <th>SAVSNET MPC</th>\n",
       "      <th>Consult_date</th>\n",
       "      <th>Species</th>\n",
       "    </tr>\n",
       "    <tr>\n",
       "      <th>month</th>\n",
       "      <th></th>\n",
       "      <th></th>\n",
       "      <th></th>\n",
       "      <th></th>\n",
       "      <th></th>\n",
       "    </tr>\n",
       "  </thead>\n",
       "  <tbody>\n",
       "    <tr>\n",
       "      <th>1</th>\n",
       "      <td>342</td>\n",
       "      <td>342</td>\n",
       "      <td>341</td>\n",
       "      <td>342</td>\n",
       "      <td>342</td>\n",
       "    </tr>\n",
       "    <tr>\n",
       "      <th>2</th>\n",
       "      <td>318</td>\n",
       "      <td>318</td>\n",
       "      <td>318</td>\n",
       "      <td>318</td>\n",
       "      <td>318</td>\n",
       "    </tr>\n",
       "    <tr>\n",
       "      <th>3</th>\n",
       "      <td>336</td>\n",
       "      <td>336</td>\n",
       "      <td>332</td>\n",
       "      <td>336</td>\n",
       "      <td>336</td>\n",
       "    </tr>\n",
       "    <tr>\n",
       "      <th>4</th>\n",
       "      <td>313</td>\n",
       "      <td>313</td>\n",
       "      <td>310</td>\n",
       "      <td>313</td>\n",
       "      <td>313</td>\n",
       "    </tr>\n",
       "    <tr>\n",
       "      <th>5</th>\n",
       "      <td>362</td>\n",
       "      <td>362</td>\n",
       "      <td>358</td>\n",
       "      <td>362</td>\n",
       "      <td>362</td>\n",
       "    </tr>\n",
       "    <tr>\n",
       "      <th>6</th>\n",
       "      <td>376</td>\n",
       "      <td>376</td>\n",
       "      <td>375</td>\n",
       "      <td>376</td>\n",
       "      <td>376</td>\n",
       "    </tr>\n",
       "    <tr>\n",
       "      <th>7</th>\n",
       "      <td>415</td>\n",
       "      <td>415</td>\n",
       "      <td>415</td>\n",
       "      <td>415</td>\n",
       "      <td>415</td>\n",
       "    </tr>\n",
       "    <tr>\n",
       "      <th>8</th>\n",
       "      <td>440</td>\n",
       "      <td>440</td>\n",
       "      <td>440</td>\n",
       "      <td>440</td>\n",
       "      <td>440</td>\n",
       "    </tr>\n",
       "    <tr>\n",
       "      <th>9</th>\n",
       "      <td>462</td>\n",
       "      <td>462</td>\n",
       "      <td>462</td>\n",
       "      <td>462</td>\n",
       "      <td>462</td>\n",
       "    </tr>\n",
       "    <tr>\n",
       "      <th>10</th>\n",
       "      <td>413</td>\n",
       "      <td>413</td>\n",
       "      <td>413</td>\n",
       "      <td>413</td>\n",
       "      <td>413</td>\n",
       "    </tr>\n",
       "    <tr>\n",
       "      <th>11</th>\n",
       "      <td>339</td>\n",
       "      <td>339</td>\n",
       "      <td>338</td>\n",
       "      <td>339</td>\n",
       "      <td>339</td>\n",
       "    </tr>\n",
       "    <tr>\n",
       "      <th>12</th>\n",
       "      <td>299</td>\n",
       "      <td>299</td>\n",
       "      <td>298</td>\n",
       "      <td>299</td>\n",
       "      <td>299</td>\n",
       "    </tr>\n",
       "  </tbody>\n",
       "</table>\n",
       "</div>"
      ],
      "text/plain": [
       "       SAVSNET_consult_id  Narrative  SAVSNET MPC  Consult_date  Species\n",
       "month                                                                   \n",
       "1                     342        342          341           342      342\n",
       "2                     318        318          318           318      318\n",
       "3                     336        336          332           336      336\n",
       "4                     313        313          310           313      313\n",
       "5                     362        362          358           362      362\n",
       "6                     376        376          375           376      376\n",
       "7                     415        415          415           415      415\n",
       "8                     440        440          440           440      440\n",
       "9                     462        462          462           462      462\n",
       "10                    413        413          413           413      413\n",
       "11                    339        339          338           339      339\n",
       "12                    299        299          298           299      299"
      ]
     },
     "execution_count": 36,
     "metadata": {},
     "output_type": "execute_result"
    }
   ],
   "source": [
    "monthly_counts_df"
   ]
  },
  {
   "cell_type": "code",
   "execution_count": 37,
   "metadata": {},
   "outputs": [
    {
     "data": {
      "image/png": "[encoded data removed]",
      "text/plain": [
       "<Figure size 432x288 with 1 Axes>"
      ]
     },
     "metadata": {},
     "output_type": "display_data"
    }
   ],
   "source": [
    "sns.set_theme(style=\"darkgrid\")\n",
    "ax = sns.lineplot(x=\"month\", data=monthly_counts_df, y='Narrative')\n",
    "# ax.set(ylim=(0,None))\n",
    "ax.tick_params(axis='x', labelrotation = 45)\n"
   ]
  },
  {
   "cell_type": "markdown",
   "metadata": {},
   "source": [
    "# Text Mining"
   ]
  },
  {
   "cell_type": "code",
   "execution_count": 46,
   "metadata": {},
   "outputs": [],
   "source": [
    "# Consults that contain text\n",
    "test_string = \"The Quick Brown Fox Jumped Over The Lazy Dog\""
   ]
  },
  {
   "cell_type": "code",
   "execution_count": 49,
   "metadata": {},
   "outputs": [
    {
     "data": {
      "text/plain": [
       "'The Quick Brown Bear Jumped Over The Lazy Dog'"
      ]
     },
     "execution_count": 49,
     "metadata": {},
     "output_type": "execute_result"
    }
   ],
   "source": [
    "test_string.lower()\n",
    "# test_string.upper()\n",
    "# test_string.replace('Fox','Bear')"
   ]
  },
  {
   "cell_type": "code",
   "execution_count": 50,
   "metadata": {},
   "outputs": [
    {
     "name": "stdout",
     "output_type": "stream",
     "text": [
      "I saw a fox\n"
     ]
    }
   ],
   "source": [
    "if 'Fox' in test_string:\n",
    "    print('I saw a fox')\n",
    "else:\n",
    "    print('No fox here')"
   ]
  },
  {
   "cell_type": "code",
   "execution_count": null,
   "metadata": {},
   "outputs": [],
   "source": [
    "# Make a function\n",
    "\n",
    "def foxes_in(test_string):\n",
    "    if 'fox' in test_string.lower:\n",
    "        return True\n",
    "    else:\n",
    "        return False\n",
    "        "
   ]
  },
  {
   "cell_type": "code",
   "execution_count": null,
   "metadata": {},
   "outputs": [],
   "source": [
    "def foxes_in(test_string:str)->bool:\n",
    "    \"\"\" Tests to see if the word fox is in a submitted string\n",
    "    params: test_string: this is a string in which a fox migth be hidden - it gets converted to lower case\n",
    "    returns: boolean true or False for the outcome\n",
    "    \"\"\"\n",
    "    if 'fox' in test_string.lower:\n",
    "        return True\n",
    "    else:\n",
    "        return False"
   ]
  },
  {
   "cell_type": "markdown",
   "metadata": {},
   "source": [
    "### Test\n",
    "Write a function to take a thing you are searching for and a string in which you are searching that returns true or false for the result"
   ]
  },
  {
   "cell_type": "code",
   "execution_count": 86,
   "metadata": {},
   "outputs": [
    {
     "data": {
      "text/plain": [
       "<re.Match object; span=(0, 3), match='The'>"
      ]
     },
     "execution_count": 86,
     "metadata": {},
     "output_type": "execute_result"
    }
   ],
   "source": [
    "# regular expressions\n",
    "\n",
    "import re\n",
    "\n",
    "my_regex_string = r'\\bthe\\b'\n",
    "my_regex =  re.compile(my_regex_string,re.IGNORECASE)\n",
    "\n",
    "my_regex.search(test_string)"
   ]
  },
  {
   "cell_type": "code",
   "execution_count": 87,
   "metadata": {},
   "outputs": [
    {
     "name": "stdout",
     "output_type": "stream",
     "text": [
      "there were 2 matches for the regex and these were ['The', 'The']\n"
     ]
    }
   ],
   "source": [
    "matches = my_regex.findall(test_string)\n",
    "print(f'there were {len(matches)} matches for the regex and these were {matches}')"
   ]
  },
  {
   "cell_type": "code",
   "execution_count": 89,
   "metadata": {},
   "outputs": [
    {
     "data": {
      "text/plain": [
       "<re.Match object; span=(0, 3), match='The'>"
      ]
     },
     "execution_count": 89,
     "metadata": {},
     "output_type": "execute_result"
    }
   ],
   "source": [
    "my_regex.match(test_string)"
   ]
  },
  {
   "cell_type": "markdown",
   "metadata": {},
   "source": [
    "# Putting that together with your dataframe"
   ]
  },
  {
   "cell_type": "code",
   "execution_count": 90,
   "metadata": {},
   "outputs": [],
   "source": [
    "savsnet_df['matches']=savsnet_df.Narrative.str.contains(my_regex, regex=True)"
   ]
  },
  {
   "cell_type": "code",
   "execution_count": 91,
   "metadata": {},
   "outputs": [
    {
     "data": {
      "text/html": [
       "<div>\n",
       "<style scoped>\n",
       "    .dataframe tbody tr th:only-of-type {\n",
       "        vertical-align: middle;\n",
       "    }\n",
       "\n",
       "    .dataframe tbody tr th {\n",
       "        vertical-align: top;\n",
       "    }\n",
       "\n",
       "    .dataframe thead th {\n",
       "        text-align: right;\n",
       "    }\n",
       "</style>\n",
       "<table border=\"1\" class=\"dataframe\">\n",
       "  <thead>\n",
       "    <tr style=\"text-align: right;\">\n",
       "      <th></th>\n",
       "      <th>SAVSNET_consult_id</th>\n",
       "      <th>Narrative</th>\n",
       "      <th>SAVSNET MPC</th>\n",
       "      <th>Consult_date</th>\n",
       "      <th>Species</th>\n",
       "      <th>month</th>\n",
       "      <th>matches</th>\n",
       "      <th>match_count</th>\n",
       "    </tr>\n",
       "  </thead>\n",
       "  <tbody>\n",
       "    <tr>\n",
       "      <th>0</th>\n",
       "      <td>1111025</td>\n",
       "      <td>\"Booster: hc satis. O no concerns. Ce NAD. Una...</td>\n",
       "      <td>vaccination</td>\n",
       "      <td>2016-01-27 08:40:27</td>\n",
       "      <td>dog</td>\n",
       "      <td>1</td>\n",
       "      <td>False</td>\n",
       "      <td>1</td>\n",
       "    </tr>\n",
       "    <tr>\n",
       "      <th>1</th>\n",
       "      <td>6761083</td>\n",
       "      <td>some tartar care w/ weight! reduce calories by...</td>\n",
       "      <td>vaccination</td>\n",
       "      <td>2019-10-03 11:24:06</td>\n",
       "      <td>dog</td>\n",
       "      <td>10</td>\n",
       "      <td>False</td>\n",
       "      <td>0</td>\n",
       "    </tr>\n",
       "    <tr>\n",
       "      <th>2</th>\n",
       "      <td>3938657</td>\n",
       "      <td>\"Came in for 6 month HPC check. BAR Hr=100 mm=...</td>\n",
       "      <td>other_healthy</td>\n",
       "      <td>2017-11-29 17:47:49</td>\n",
       "      <td>unknown</td>\n",
       "      <td>11</td>\n",
       "      <td>True</td>\n",
       "      <td>1</td>\n",
       "    </tr>\n",
       "    <tr>\n",
       "      <th>3</th>\n",
       "      <td>6081319</td>\n",
       "      <td>lame RF 5 days possibly getting better - had l...</td>\n",
       "      <td>trauma</td>\n",
       "      <td>2019-05-09 09:24:07</td>\n",
       "      <td>dog</td>\n",
       "      <td>5</td>\n",
       "      <td>False</td>\n",
       "      <td>0</td>\n",
       "    </tr>\n",
       "    <tr>\n",
       "      <th>4</th>\n",
       "      <td>4162251</td>\n",
       "      <td>\"H: Ate some plastic approx a week ago. This h...</td>\n",
       "      <td>other_unwell</td>\n",
       "      <td>2018-01-30 16:55:57</td>\n",
       "      <td>dog</td>\n",
       "      <td>1</td>\n",
       "      <td>True</td>\n",
       "      <td>4</td>\n",
       "    </tr>\n",
       "    <tr>\n",
       "      <th>...</th>\n",
       "      <td>...</td>\n",
       "      <td>...</td>\n",
       "      <td>...</td>\n",
       "      <td>...</td>\n",
       "      <td>...</td>\n",
       "      <td>...</td>\n",
       "      <td>...</td>\n",
       "      <td>...</td>\n",
       "    </tr>\n",
       "    <tr>\n",
       "      <th>4410</th>\n",
       "      <td>4713926</td>\n",
       "      <td>\"Microchip implant. Checked no chip prior to i...</td>\n",
       "      <td>other_healthy</td>\n",
       "      <td>2018-07-09 10:41:14</td>\n",
       "      <td>cat</td>\n",
       "      <td>7</td>\n",
       "      <td>False</td>\n",
       "      <td>0</td>\n",
       "    </tr>\n",
       "    <tr>\n",
       "      <th>4411</th>\n",
       "      <td>3370385</td>\n",
       "      <td>\"OR no concerns EDDU. V+ a little after last v...</td>\n",
       "      <td>vaccination</td>\n",
       "      <td>2017-07-14 17:45:20</td>\n",
       "      <td>dog</td>\n",
       "      <td>7</td>\n",
       "      <td>False</td>\n",
       "      <td>0</td>\n",
       "    </tr>\n",
       "    <tr>\n",
       "      <th>4412</th>\n",
       "      <td>650951</td>\n",
       "      <td>\"patient is in good form after dental, owner r...</td>\n",
       "      <td>post_op</td>\n",
       "      <td>2015-09-28 18:03:04</td>\n",
       "      <td>dog</td>\n",
       "      <td>9</td>\n",
       "      <td>False</td>\n",
       "      <td>0</td>\n",
       "    </tr>\n",
       "    <tr>\n",
       "      <th>4413</th>\n",
       "      <td>3328882</td>\n",
       "      <td>\"&lt;&lt;name&gt;&gt; 2 cysts on head advise removal. also...</td>\n",
       "      <td>other_healthy</td>\n",
       "      <td>2017-07-05 11:40:31</td>\n",
       "      <td>cat</td>\n",
       "      <td>7</td>\n",
       "      <td>False</td>\n",
       "      <td>1</td>\n",
       "    </tr>\n",
       "    <tr>\n",
       "      <th>4414</th>\n",
       "      <td>866239</td>\n",
       "      <td>\"tried to staple but skin too thin and staples...</td>\n",
       "      <td>trauma</td>\n",
       "      <td>2015-11-26 15:07:24</td>\n",
       "      <td>dog</td>\n",
       "      <td>11</td>\n",
       "      <td>False</td>\n",
       "      <td>0</td>\n",
       "    </tr>\n",
       "  </tbody>\n",
       "</table>\n",
       "<p>4415 rows × 8 columns</p>\n",
       "</div>"
      ],
      "text/plain": [
       "      SAVSNET_consult_id                                          Narrative  \\\n",
       "0                1111025  \"Booster: hc satis. O no concerns. Ce NAD. Una...   \n",
       "1                6761083  some tartar care w/ weight! reduce calories by...   \n",
       "2                3938657  \"Came in for 6 month HPC check. BAR Hr=100 mm=...   \n",
       "3                6081319  lame RF 5 days possibly getting better - had l...   \n",
       "4                4162251  \"H: Ate some plastic approx a week ago. This h...   \n",
       "...                  ...                                                ...   \n",
       "4410             4713926  \"Microchip implant. Checked no chip prior to i...   \n",
       "4411             3370385  \"OR no concerns EDDU. V+ a little after last v...   \n",
       "4412              650951  \"patient is in good form after dental, owner r...   \n",
       "4413             3328882  \"<<name>> 2 cysts on head advise removal. also...   \n",
       "4414              866239  \"tried to staple but skin too thin and staples...   \n",
       "\n",
       "        SAVSNET MPC        Consult_date  Species  month  matches  match_count  \n",
       "0       vaccination 2016-01-27 08:40:27      dog      1    False            1  \n",
       "1       vaccination 2019-10-03 11:24:06      dog     10    False            0  \n",
       "2     other_healthy 2017-11-29 17:47:49  unknown     11     True            1  \n",
       "3            trauma 2019-05-09 09:24:07      dog      5    False            0  \n",
       "4      other_unwell 2018-01-30 16:55:57      dog      1     True            4  \n",
       "...             ...                 ...      ...    ...      ...          ...  \n",
       "4410  other_healthy 2018-07-09 10:41:14      cat      7    False            0  \n",
       "4411    vaccination 2017-07-14 17:45:20      dog      7    False            0  \n",
       "4412        post_op 2015-09-28 18:03:04      dog      9    False            0  \n",
       "4413  other_healthy 2017-07-05 11:40:31      cat      7    False            1  \n",
       "4414         trauma 2015-11-26 15:07:24      dog     11    False            0  \n",
       "\n",
       "[4415 rows x 8 columns]"
      ]
     },
     "execution_count": 91,
     "metadata": {},
     "output_type": "execute_result"
    }
   ],
   "source": [
    "savsnet_df"
   ]
  },
  {
   "cell_type": "code",
   "execution_count": 92,
   "metadata": {},
   "outputs": [
    {
     "data": {
      "text/plain": [
       "(808, 8)"
      ]
     },
     "execution_count": 92,
     "metadata": {},
     "output_type": "execute_result"
    }
   ],
   "source": [
    "# how many narratives have 'the' in them\n",
    "\n",
    "savsnet_df.loc[savsnet_df.matches].shape"
   ]
  },
  {
   "cell_type": "code",
   "execution_count": 85,
   "metadata": {},
   "outputs": [
    {
     "name": "stdout",
     "output_type": "stream",
     "text": [
      "\"Lame RF. Not eaten this morning, normal faeces passed. Lame RF. Lateral toe inflammed, erythematous, discharge from nail bed, ?one that was affected a few weeks ago? Pex otherwise unermarkble, start on NSAID and ABI and reex in 1 week, before if concerned.  Next appointment in 1 week.\" \n",
      "\n",
      "\"Removed sutures, incision looks good, slightly red around suture line but otherwise has healed very well, can return to normal activity.\" \n",
      "\n",
      "\"OE left ear, o has been cleaning with sancerrum. R ear nothing abnormal detected, L ear v inflammed slightly waxy. Rest of check ok- mild plaque- v wriggly boy therefore advise canaural for 10 days and if no better then will have to swab even though will be challenging, then in kennels so osurnia would be the best option as o back after a week. Discussed tick protection, vaccs and lungworm prevention- o has endoguard - advise milbeworm for lungworm prevention.\" \n",
      "\n",
      "vaccine / potentially moving to <<location>>. HISTORY: no issues and bright in self. no further d+. EXAM: some weight drop on scales today, therefore advise that we re-weigh in 4 weeks. O is moving to <<identifier>> and will be moving to <<location>>. Advise that re-weigh there and review. if concerned before then contact us. nothing abnormal detected on exam otherwise. Discuss insurance, O considering chaning company. <<name>> advise that a new insurance company might exclude any issues they view as pre-existing, therfore to maje sure they have all the information before changing. Advise consider staying with the same company. \n",
      "\n",
      "\"Myxomatosis and VHD vaccination - may possible be F. No testicles found and U/G indeterminate at the moment. Adv re-ex in ~ a month.\" \n",
      "\n"
     ]
    }
   ],
   "source": [
    "# Let's look at a sample\n",
    "\n",
    "sample_df = savsnet_df.loc[savsnet_df.matches==True].sample(5)\n",
    "for row in sample_df.itertuples():\n",
    "    print(row.Narrative, '\\n')"
   ]
  },
  {
   "cell_type": "code",
   "execution_count": 93,
   "metadata": {},
   "outputs": [],
   "source": [
    "savsnet_df['match_count']=savsnet_df.Narrative.apply(lambda x: len(my_regex.findall(x)))"
   ]
  },
  {
   "cell_type": "code",
   "execution_count": 94,
   "metadata": {},
   "outputs": [
    {
     "data": {
      "text/html": [
       "<div>\n",
       "<style scoped>\n",
       "    .dataframe tbody tr th:only-of-type {\n",
       "        vertical-align: middle;\n",
       "    }\n",
       "\n",
       "    .dataframe tbody tr th {\n",
       "        vertical-align: top;\n",
       "    }\n",
       "\n",
       "    .dataframe thead th {\n",
       "        text-align: right;\n",
       "    }\n",
       "</style>\n",
       "<table border=\"1\" class=\"dataframe\">\n",
       "  <thead>\n",
       "    <tr style=\"text-align: right;\">\n",
       "      <th></th>\n",
       "      <th>SAVSNET_consult_id</th>\n",
       "      <th>Narrative</th>\n",
       "      <th>SAVSNET MPC</th>\n",
       "      <th>Consult_date</th>\n",
       "      <th>Species</th>\n",
       "      <th>month</th>\n",
       "      <th>matches</th>\n",
       "      <th>match_count</th>\n",
       "    </tr>\n",
       "  </thead>\n",
       "  <tbody>\n",
       "    <tr>\n",
       "      <th>0</th>\n",
       "      <td>1111025</td>\n",
       "      <td>\"Booster: hc satis. O no concerns. Ce NAD. Una...</td>\n",
       "      <td>vaccination</td>\n",
       "      <td>2016-01-27 08:40:27</td>\n",
       "      <td>dog</td>\n",
       "      <td>1</td>\n",
       "      <td>False</td>\n",
       "      <td>0</td>\n",
       "    </tr>\n",
       "    <tr>\n",
       "      <th>1</th>\n",
       "      <td>6761083</td>\n",
       "      <td>some tartar care w/ weight! reduce calories by...</td>\n",
       "      <td>vaccination</td>\n",
       "      <td>2019-10-03 11:24:06</td>\n",
       "      <td>dog</td>\n",
       "      <td>10</td>\n",
       "      <td>False</td>\n",
       "      <td>0</td>\n",
       "    </tr>\n",
       "    <tr>\n",
       "      <th>2</th>\n",
       "      <td>3938657</td>\n",
       "      <td>\"Came in for 6 month HPC check. BAR Hr=100 mm=...</td>\n",
       "      <td>other_healthy</td>\n",
       "      <td>2017-11-29 17:47:49</td>\n",
       "      <td>unknown</td>\n",
       "      <td>11</td>\n",
       "      <td>True</td>\n",
       "      <td>1</td>\n",
       "    </tr>\n",
       "    <tr>\n",
       "      <th>3</th>\n",
       "      <td>6081319</td>\n",
       "      <td>lame RF 5 days possibly getting better - had l...</td>\n",
       "      <td>trauma</td>\n",
       "      <td>2019-05-09 09:24:07</td>\n",
       "      <td>dog</td>\n",
       "      <td>5</td>\n",
       "      <td>False</td>\n",
       "      <td>0</td>\n",
       "    </tr>\n",
       "    <tr>\n",
       "      <th>4</th>\n",
       "      <td>4162251</td>\n",
       "      <td>\"H: Ate some plastic approx a week ago. This h...</td>\n",
       "      <td>other_unwell</td>\n",
       "      <td>2018-01-30 16:55:57</td>\n",
       "      <td>dog</td>\n",
       "      <td>1</td>\n",
       "      <td>True</td>\n",
       "      <td>2</td>\n",
       "    </tr>\n",
       "    <tr>\n",
       "      <th>...</th>\n",
       "      <td>...</td>\n",
       "      <td>...</td>\n",
       "      <td>...</td>\n",
       "      <td>...</td>\n",
       "      <td>...</td>\n",
       "      <td>...</td>\n",
       "      <td>...</td>\n",
       "      <td>...</td>\n",
       "    </tr>\n",
       "    <tr>\n",
       "      <th>4410</th>\n",
       "      <td>4713926</td>\n",
       "      <td>\"Microchip implant. Checked no chip prior to i...</td>\n",
       "      <td>other_healthy</td>\n",
       "      <td>2018-07-09 10:41:14</td>\n",
       "      <td>cat</td>\n",
       "      <td>7</td>\n",
       "      <td>False</td>\n",
       "      <td>0</td>\n",
       "    </tr>\n",
       "    <tr>\n",
       "      <th>4411</th>\n",
       "      <td>3370385</td>\n",
       "      <td>\"OR no concerns EDDU. V+ a little after last v...</td>\n",
       "      <td>vaccination</td>\n",
       "      <td>2017-07-14 17:45:20</td>\n",
       "      <td>dog</td>\n",
       "      <td>7</td>\n",
       "      <td>False</td>\n",
       "      <td>0</td>\n",
       "    </tr>\n",
       "    <tr>\n",
       "      <th>4412</th>\n",
       "      <td>650951</td>\n",
       "      <td>\"patient is in good form after dental, owner r...</td>\n",
       "      <td>post_op</td>\n",
       "      <td>2015-09-28 18:03:04</td>\n",
       "      <td>dog</td>\n",
       "      <td>9</td>\n",
       "      <td>False</td>\n",
       "      <td>0</td>\n",
       "    </tr>\n",
       "    <tr>\n",
       "      <th>4413</th>\n",
       "      <td>3328882</td>\n",
       "      <td>\"&lt;&lt;name&gt;&gt; 2 cysts on head advise removal. also...</td>\n",
       "      <td>other_healthy</td>\n",
       "      <td>2017-07-05 11:40:31</td>\n",
       "      <td>cat</td>\n",
       "      <td>7</td>\n",
       "      <td>False</td>\n",
       "      <td>0</td>\n",
       "    </tr>\n",
       "    <tr>\n",
       "      <th>4414</th>\n",
       "      <td>866239</td>\n",
       "      <td>\"tried to staple but skin too thin and staples...</td>\n",
       "      <td>trauma</td>\n",
       "      <td>2015-11-26 15:07:24</td>\n",
       "      <td>dog</td>\n",
       "      <td>11</td>\n",
       "      <td>False</td>\n",
       "      <td>0</td>\n",
       "    </tr>\n",
       "  </tbody>\n",
       "</table>\n",
       "<p>4415 rows × 8 columns</p>\n",
       "</div>"
      ],
      "text/plain": [
       "      SAVSNET_consult_id                                          Narrative  \\\n",
       "0                1111025  \"Booster: hc satis. O no concerns. Ce NAD. Una...   \n",
       "1                6761083  some tartar care w/ weight! reduce calories by...   \n",
       "2                3938657  \"Came in for 6 month HPC check. BAR Hr=100 mm=...   \n",
       "3                6081319  lame RF 5 days possibly getting better - had l...   \n",
       "4                4162251  \"H: Ate some plastic approx a week ago. This h...   \n",
       "...                  ...                                                ...   \n",
       "4410             4713926  \"Microchip implant. Checked no chip prior to i...   \n",
       "4411             3370385  \"OR no concerns EDDU. V+ a little after last v...   \n",
       "4412              650951  \"patient is in good form after dental, owner r...   \n",
       "4413             3328882  \"<<name>> 2 cysts on head advise removal. also...   \n",
       "4414              866239  \"tried to staple but skin too thin and staples...   \n",
       "\n",
       "        SAVSNET MPC        Consult_date  Species  month  matches  match_count  \n",
       "0       vaccination 2016-01-27 08:40:27      dog      1    False            0  \n",
       "1       vaccination 2019-10-03 11:24:06      dog     10    False            0  \n",
       "2     other_healthy 2017-11-29 17:47:49  unknown     11     True            1  \n",
       "3            trauma 2019-05-09 09:24:07      dog      5    False            0  \n",
       "4      other_unwell 2018-01-30 16:55:57      dog      1     True            2  \n",
       "...             ...                 ...      ...    ...      ...          ...  \n",
       "4410  other_healthy 2018-07-09 10:41:14      cat      7    False            0  \n",
       "4411    vaccination 2017-07-14 17:45:20      dog      7    False            0  \n",
       "4412        post_op 2015-09-28 18:03:04      dog      9    False            0  \n",
       "4413  other_healthy 2017-07-05 11:40:31      cat      7    False            0  \n",
       "4414         trauma 2015-11-26 15:07:24      dog     11    False            0  \n",
       "\n",
       "[4415 rows x 8 columns]"
      ]
     },
     "execution_count": 94,
     "metadata": {},
     "output_type": "execute_result"
    }
   ],
   "source": [
    "savsnet_df"
   ]
  },
  {
   "cell_type": "code",
   "execution_count": 95,
   "metadata": {},
   "outputs": [
    {
     "data": {
      "image/png": "[encoded data removed]",
      "text/plain": [
       "<Figure size 432x288 with 1 Axes>"
      ]
     },
     "metadata": {},
     "output_type": "display_data"
    }
   ],
   "source": [
    "# grouping\n",
    "sns.set_theme(style=\"darkgrid\")\n",
    "ax = sns.countplot(x=\"match_count\", data=savsnet_df)"
   ]
  },
  {
   "cell_type": "markdown",
   "metadata": {},
   "source": [
    "### Activity\n",
    "Design a regex to find something you are interested in test it in your workbook and refine it until is shows you what you want and tehn plot some counts by species."
   ]
  },
  {
   "cell_type": "code",
   "execution_count": null,
   "metadata": {},
   "outputs": [],
   "source": []
  }
 ],
 "metadata": {
  "kernelspec": {
   "display_name": "Python 3",
   "language": "python",
   "name": "python3"
  },
  "language_info": {
   "name": ""
  }
 },
 "nbformat": 4,
 "nbformat_minor": 4
}
